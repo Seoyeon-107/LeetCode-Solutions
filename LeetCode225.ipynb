{
 "cells": [
  {
   "cell_type": "code",
   "execution_count": 1,
   "id": "411a4b18-3183-4e18-aaa6-fc0f0ff9eea1",
   "metadata": {},
   "outputs": [],
   "source": [
    "from collections import deque"
   ]
  },
  {
   "cell_type": "code",
   "execution_count": 1,
   "id": "6835b7f9-b705-4bec-9bc9-37a4f653e8b6",
   "metadata": {},
   "outputs": [],
   "source": [
    "class MyStack:\n",
    "    def __init__(self):\n",
    "        self.queue = deque()\n",
    "\n",
    "    def push(self, x):\n",
    "        # 새 요소를 큐에 넣는다\n",
    "        self.queue.append(x)\n",
    "        # (큐의 크기 - 1)만큼 요소를 큐의 뒤에서 앞으로 옮긴다\n",
    "        for _ in range(len(self.queue) - 1):\n",
    "            self.queue.append(self.queue.popleft())\n",
    "\n",
    "    def pop(self):\n",
    "        # 큐의 맨 앞 요소 (스택의 맨 위 요소)를 제거하고 반환\n",
    "        return self.queue.popleft()\n",
    "\n",
    "    def top(self):\n",
    "        # 큐의 맨 앞 요소를 반환 (스택의 맨 위 요소)\n",
    "        return self.queue[0]\n",
    "\n",
    "    def empty(self):\n",
    "        # 큐가 비어있는지 확인\n",
    "        return not self.queue"
   ]
  },
  {
   "cell_type": "code",
   "execution_count": null,
   "id": "42657406-d339-4ddf-940f-b77252eacd3a",
   "metadata": {},
   "outputs": [],
   "source": []
  }
 ],
 "metadata": {
  "kernelspec": {
   "display_name": "Python 3 (ipykernel)",
   "language": "python",
   "name": "python3"
  },
  "language_info": {
   "codemirror_mode": {
    "name": "ipython",
    "version": 3
   },
   "file_extension": ".py",
   "mimetype": "text/x-python",
   "name": "python",
   "nbconvert_exporter": "python",
   "pygments_lexer": "ipython3",
   "version": "3.10.11"
  }
 },
 "nbformat": 4,
 "nbformat_minor": 5
}
