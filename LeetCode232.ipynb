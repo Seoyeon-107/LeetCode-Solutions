{
 "cells": [
  {
   "cell_type": "code",
   "execution_count": 1,
   "id": "fd6e8b84-ce68-4052-b84c-1ecaacfc6e55",
   "metadata": {},
   "outputs": [],
   "source": [
    "class MyQueue:\n",
    "    def __init__(self):\n",
    "        self.in_stack = []\n",
    "        self.out_stack = []\n",
    "\n",
    "    def push(self, x):\n",
    "        # 요소를 in_stack에 추가\n",
    "        self.in_stack.append(x)\n",
    "\n",
    "    def pop(self):\n",
    "        # out_stack이 비어있다면, in_stack의 모든 요소를 out_stack으로 옮긴다\n",
    "        if not self.out_stack:\n",
    "            while self.in_stack:\n",
    "                self.out_stack.append(self.in_stack.pop())\n",
    "        # out_stack의 맨 위 요소를 제거하고 반환\n",
    "        return self.out_stack.pop()\n",
    "\n",
    "    def peek(self):\n",
    "        # out_stack이 비어있다면, in_stack의 모든 요소를 out_stack으로 옮긴다\n",
    "        if not self.out_stack:\n",
    "            while self.in_stack:\n",
    "                self.out_stack.append(self.in_stack.pop())\n",
    "        # out_stack의 맨 위 요소를 반환\n",
    "        return self.out_stack[-1]\n",
    "\n",
    "    def empty(self):\n",
    "        # 두 스택 모두 비어있는지 확인\n",
    "        return not self.in_stack and not self.out_stack"
   ]
  },
  {
   "cell_type": "code",
   "execution_count": null,
   "id": "cf09d268-0e7a-4f82-a90d-9a34ac7f68aa",
   "metadata": {},
   "outputs": [],
   "source": []
  }
 ],
 "metadata": {
  "kernelspec": {
   "display_name": "Python 3 (ipykernel)",
   "language": "python",
   "name": "python3"
  },
  "language_info": {
   "codemirror_mode": {
    "name": "ipython",
    "version": 3
   },
   "file_extension": ".py",
   "mimetype": "text/x-python",
   "name": "python",
   "nbconvert_exporter": "python",
   "pygments_lexer": "ipython3",
   "version": "3.10.11"
  }
 },
 "nbformat": 4,
 "nbformat_minor": 5
}
